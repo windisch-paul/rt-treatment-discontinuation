{
 "cells": [
  {
   "cell_type": "markdown",
   "metadata": {},
   "source": [
    "# Setup"
   ]
  },
  {
   "cell_type": "markdown",
   "metadata": {},
   "source": [
    "## Imports"
   ]
  },
  {
   "cell_type": "code",
   "execution_count": 1,
   "metadata": {},
   "outputs": [],
   "source": [
    "import pandas as pd\n",
    "import numpy as np\n",
    "from scipy.stats import chi2_contingency\n",
    "import matplotlib.pyplot as plt\n",
    "import seaborn as sns"
   ]
  },
  {
   "cell_type": "markdown",
   "metadata": {},
   "source": [
    "## Set figures and font sizes"
   ]
  },
  {
   "cell_type": "code",
   "execution_count": 2,
   "metadata": {},
   "outputs": [],
   "source": [
    "plt.rcParams.update({'font.size': 16})"
   ]
  },
  {
   "cell_type": "markdown",
   "metadata": {},
   "source": [
    "## Read data"
   ]
  },
  {
   "cell_type": "code",
   "execution_count": 3,
   "metadata": {},
   "outputs": [],
   "source": [
    "df = pd.read_csv('patients.csv')"
   ]
  },
  {
   "cell_type": "markdown",
   "metadata": {},
   "source": [
    "# Analysis"
   ]
  },
  {
   "cell_type": "markdown",
   "metadata": {},
   "source": [
    "## Split dataframes"
   ]
  },
  {
   "cell_type": "code",
   "execution_count": 4,
   "metadata": {},
   "outputs": [],
   "source": [
    "df_aborted = df[df[\"RT_aborted\"] == 1]\n",
    "df_completed= df[df[\"RT_aborted\"] == 0]"
   ]
  },
  {
   "cell_type": "markdown",
   "metadata": {},
   "source": [
    "## Characteristics\n"
   ]
  },
  {
   "cell_type": "markdown",
   "metadata": {},
   "source": [
    "### All patients"
   ]
  },
  {
   "cell_type": "code",
   "execution_count": 5,
   "metadata": {},
   "outputs": [
    {
     "data": {
      "text/html": [
       "<div>\n",
       "<style scoped>\n",
       "    .dataframe tbody tr th:only-of-type {\n",
       "        vertical-align: middle;\n",
       "    }\n",
       "\n",
       "    .dataframe tbody tr th {\n",
       "        vertical-align: top;\n",
       "    }\n",
       "\n",
       "    .dataframe thead th {\n",
       "        text-align: right;\n",
       "    }\n",
       "</style>\n",
       "<table border=\"1\" class=\"dataframe\">\n",
       "  <thead>\n",
       "    <tr style=\"text-align: right;\">\n",
       "      <th></th>\n",
       "      <th>Unnamed: 0</th>\n",
       "      <th>RT_aborted</th>\n",
       "      <th>Age_at_brain_RT_start</th>\n",
       "      <th>Sex</th>\n",
       "      <th>Number_of_other_organs_with_mets</th>\n",
       "      <th>ECOG_at_brain_RT_start</th>\n",
       "      <th>Status_of_primary_tumor_at_brain_RT_start</th>\n",
       "      <th>Status_of_extracranial_mets_at_brain_RT_start</th>\n",
       "      <th>Steroids_before_brain_RT_start</th>\n",
       "      <th>Specialized_palliative_care_prior_to_brain_RT_start</th>\n",
       "      <th>RPA</th>\n",
       "      <th>GPA_version_2012</th>\n",
       "    </tr>\n",
       "  </thead>\n",
       "  <tbody>\n",
       "    <tr>\n",
       "      <th>count</th>\n",
       "      <td>468.000000</td>\n",
       "      <td>468.000000</td>\n",
       "      <td>468.000000</td>\n",
       "      <td>468.000000</td>\n",
       "      <td>468.000000</td>\n",
       "      <td>452.000000</td>\n",
       "      <td>464.000000</td>\n",
       "      <td>455.000000</td>\n",
       "      <td>387.000000</td>\n",
       "      <td>149.000000</td>\n",
       "      <td>360.000000</td>\n",
       "      <td>286.000000</td>\n",
       "    </tr>\n",
       "    <tr>\n",
       "      <th>mean</th>\n",
       "      <td>233.500000</td>\n",
       "      <td>0.074786</td>\n",
       "      <td>65.196581</td>\n",
       "      <td>1.529915</td>\n",
       "      <td>1.495726</td>\n",
       "      <td>1.426991</td>\n",
       "      <td>0.482759</td>\n",
       "      <td>0.281319</td>\n",
       "      <td>0.751938</td>\n",
       "      <td>0.201342</td>\n",
       "      <td>2.391667</td>\n",
       "      <td>1.576923</td>\n",
       "    </tr>\n",
       "    <tr>\n",
       "      <th>std</th>\n",
       "      <td>135.244224</td>\n",
       "      <td>0.263328</td>\n",
       "      <td>10.879515</td>\n",
       "      <td>0.499638</td>\n",
       "      <td>1.433009</td>\n",
       "      <td>0.802699</td>\n",
       "      <td>0.500242</td>\n",
       "      <td>0.450138</td>\n",
       "      <td>0.432447</td>\n",
       "      <td>0.402356</td>\n",
       "      <td>0.610436</td>\n",
       "      <td>0.720155</td>\n",
       "    </tr>\n",
       "    <tr>\n",
       "      <th>min</th>\n",
       "      <td>0.000000</td>\n",
       "      <td>0.000000</td>\n",
       "      <td>26.000000</td>\n",
       "      <td>1.000000</td>\n",
       "      <td>0.000000</td>\n",
       "      <td>0.000000</td>\n",
       "      <td>0.000000</td>\n",
       "      <td>0.000000</td>\n",
       "      <td>0.000000</td>\n",
       "      <td>0.000000</td>\n",
       "      <td>1.000000</td>\n",
       "      <td>1.000000</td>\n",
       "    </tr>\n",
       "    <tr>\n",
       "      <th>25%</th>\n",
       "      <td>116.750000</td>\n",
       "      <td>0.000000</td>\n",
       "      <td>58.000000</td>\n",
       "      <td>1.000000</td>\n",
       "      <td>0.000000</td>\n",
       "      <td>1.000000</td>\n",
       "      <td>0.000000</td>\n",
       "      <td>0.000000</td>\n",
       "      <td>1.000000</td>\n",
       "      <td>0.000000</td>\n",
       "      <td>2.000000</td>\n",
       "      <td>1.000000</td>\n",
       "    </tr>\n",
       "    <tr>\n",
       "      <th>50%</th>\n",
       "      <td>233.500000</td>\n",
       "      <td>0.000000</td>\n",
       "      <td>66.000000</td>\n",
       "      <td>2.000000</td>\n",
       "      <td>1.000000</td>\n",
       "      <td>1.000000</td>\n",
       "      <td>0.000000</td>\n",
       "      <td>0.000000</td>\n",
       "      <td>1.000000</td>\n",
       "      <td>0.000000</td>\n",
       "      <td>2.000000</td>\n",
       "      <td>1.000000</td>\n",
       "    </tr>\n",
       "    <tr>\n",
       "      <th>75%</th>\n",
       "      <td>350.250000</td>\n",
       "      <td>0.000000</td>\n",
       "      <td>73.000000</td>\n",
       "      <td>2.000000</td>\n",
       "      <td>2.000000</td>\n",
       "      <td>2.000000</td>\n",
       "      <td>1.000000</td>\n",
       "      <td>1.000000</td>\n",
       "      <td>1.000000</td>\n",
       "      <td>0.000000</td>\n",
       "      <td>3.000000</td>\n",
       "      <td>2.000000</td>\n",
       "    </tr>\n",
       "    <tr>\n",
       "      <th>max</th>\n",
       "      <td>467.000000</td>\n",
       "      <td>1.000000</td>\n",
       "      <td>91.000000</td>\n",
       "      <td>2.000000</td>\n",
       "      <td>8.000000</td>\n",
       "      <td>4.000000</td>\n",
       "      <td>1.000000</td>\n",
       "      <td>1.000000</td>\n",
       "      <td>1.000000</td>\n",
       "      <td>1.000000</td>\n",
       "      <td>3.000000</td>\n",
       "      <td>4.000000</td>\n",
       "    </tr>\n",
       "  </tbody>\n",
       "</table>\n",
       "</div>"
      ],
      "text/plain": [
       "       Unnamed: 0  RT_aborted  Age_at_brain_RT_start         Sex  \\\n",
       "count  468.000000  468.000000             468.000000  468.000000   \n",
       "mean   233.500000    0.074786              65.196581    1.529915   \n",
       "std    135.244224    0.263328              10.879515    0.499638   \n",
       "min      0.000000    0.000000              26.000000    1.000000   \n",
       "25%    116.750000    0.000000              58.000000    1.000000   \n",
       "50%    233.500000    0.000000              66.000000    2.000000   \n",
       "75%    350.250000    0.000000              73.000000    2.000000   \n",
       "max    467.000000    1.000000              91.000000    2.000000   \n",
       "\n",
       "       Number_of_other_organs_with_mets  ECOG_at_brain_RT_start  \\\n",
       "count                        468.000000              452.000000   \n",
       "mean                           1.495726                1.426991   \n",
       "std                            1.433009                0.802699   \n",
       "min                            0.000000                0.000000   \n",
       "25%                            0.000000                1.000000   \n",
       "50%                            1.000000                1.000000   \n",
       "75%                            2.000000                2.000000   \n",
       "max                            8.000000                4.000000   \n",
       "\n",
       "       Status_of_primary_tumor_at_brain_RT_start  \\\n",
       "count                                 464.000000   \n",
       "mean                                    0.482759   \n",
       "std                                     0.500242   \n",
       "min                                     0.000000   \n",
       "25%                                     0.000000   \n",
       "50%                                     0.000000   \n",
       "75%                                     1.000000   \n",
       "max                                     1.000000   \n",
       "\n",
       "       Status_of_extracranial_mets_at_brain_RT_start  \\\n",
       "count                                     455.000000   \n",
       "mean                                        0.281319   \n",
       "std                                         0.450138   \n",
       "min                                         0.000000   \n",
       "25%                                         0.000000   \n",
       "50%                                         0.000000   \n",
       "75%                                         1.000000   \n",
       "max                                         1.000000   \n",
       "\n",
       "       Steroids_before_brain_RT_start  \\\n",
       "count                      387.000000   \n",
       "mean                         0.751938   \n",
       "std                          0.432447   \n",
       "min                          0.000000   \n",
       "25%                          1.000000   \n",
       "50%                          1.000000   \n",
       "75%                          1.000000   \n",
       "max                          1.000000   \n",
       "\n",
       "       Specialized_palliative_care_prior_to_brain_RT_start         RPA  \\\n",
       "count                                         149.000000    360.000000   \n",
       "mean                                            0.201342      2.391667   \n",
       "std                                             0.402356      0.610436   \n",
       "min                                             0.000000      1.000000   \n",
       "25%                                             0.000000      2.000000   \n",
       "50%                                             0.000000      2.000000   \n",
       "75%                                             0.000000      3.000000   \n",
       "max                                             1.000000      3.000000   \n",
       "\n",
       "       GPA_version_2012  \n",
       "count        286.000000  \n",
       "mean           1.576923  \n",
       "std            0.720155  \n",
       "min            1.000000  \n",
       "25%            1.000000  \n",
       "50%            1.000000  \n",
       "75%            2.000000  \n",
       "max            4.000000  "
      ]
     },
     "execution_count": 5,
     "metadata": {},
     "output_type": "execute_result"
    }
   ],
   "source": [
    "df.describe()"
   ]
  },
  {
   "cell_type": "code",
   "execution_count": 6,
   "metadata": {},
   "outputs": [
    {
     "name": "stdout",
     "output_type": "stream",
     "text": [
      "Sex\n",
      "2    248\n",
      "1    220\n",
      "Name: count, dtype: int64\n",
      "***********************************\n",
      "Sex\n",
      "2    0.529915\n",
      "1    0.470085\n",
      "Name: proportion, dtype: float64\n"
     ]
    }
   ],
   "source": [
    "print(df[\"Sex\"].value_counts())\n",
    "print(\"***********************************\")\n",
    "print(df[\"Sex\"].value_counts(normalize=True))"
   ]
  },
  {
   "cell_type": "code",
   "execution_count": 7,
   "metadata": {},
   "outputs": [
    {
     "name": "stdout",
     "output_type": "stream",
     "text": [
      "Status_of_primary_tumor_at_brain_RT_start\n",
      "0.0    240\n",
      "1.0    224\n",
      "Name: count, dtype: int64\n",
      "***********************************\n",
      "Status_of_primary_tumor_at_brain_RT_start\n",
      "0.0    0.517241\n",
      "1.0    0.482759\n",
      "Name: proportion, dtype: float64\n"
     ]
    }
   ],
   "source": [
    "print(df[\"Status_of_primary_tumor_at_brain_RT_start\"].value_counts())\n",
    "print(\"***********************************\")\n",
    "print(df[\"Status_of_primary_tumor_at_brain_RT_start\"].value_counts(normalize=True))"
   ]
  },
  {
   "cell_type": "code",
   "execution_count": 8,
   "metadata": {},
   "outputs": [
    {
     "name": "stdout",
     "output_type": "stream",
     "text": [
      "Status_of_extracranial_mets_at_brain_RT_start\n",
      "0.0    327\n",
      "1.0    128\n",
      "Name: count, dtype: int64\n",
      "***********************************\n",
      "Status_of_extracranial_mets_at_brain_RT_start\n",
      "0.0    0.718681\n",
      "1.0    0.281319\n",
      "Name: proportion, dtype: float64\n"
     ]
    }
   ],
   "source": [
    "print(df[\"Status_of_extracranial_mets_at_brain_RT_start\"].value_counts())\n",
    "print(\"***********************************\")\n",
    "print(df[\"Status_of_extracranial_mets_at_brain_RT_start\"].value_counts(normalize=True))"
   ]
  },
  {
   "cell_type": "code",
   "execution_count": 9,
   "metadata": {},
   "outputs": [
    {
     "name": "stdout",
     "output_type": "stream",
     "text": [
      "Number_of_brainmets_at_RT_start\n",
      "3 or more                 217\n",
      "1                         109\n",
      "2                          77\n",
      "Leptomeningeal disease     61\n",
      "Name: count, dtype: int64\n",
      "***********************************\n",
      "Number_of_brainmets_at_RT_start\n",
      "3 or more                 0.467672\n",
      "1                         0.234914\n",
      "2                         0.165948\n",
      "Leptomeningeal disease    0.131466\n",
      "Name: proportion, dtype: float64\n"
     ]
    }
   ],
   "source": [
    "print(df[\"Number_of_brainmets_at_RT_start\"].value_counts())\n",
    "print(\"***********************************\")\n",
    "print(df[\"Number_of_brainmets_at_RT_start\"].value_counts(normalize=True))"
   ]
  },
  {
   "cell_type": "code",
   "execution_count": 10,
   "metadata": {},
   "outputs": [
    {
     "name": "stdout",
     "output_type": "stream",
     "text": [
      "RPA\n",
      "2.0    171\n",
      "3.0    165\n",
      "1.0     24\n",
      "Name: count, dtype: int64\n",
      "***********************************\n",
      "RPA\n",
      "2.0    0.475000\n",
      "3.0    0.458333\n",
      "1.0    0.066667\n",
      "Name: proportion, dtype: float64\n"
     ]
    }
   ],
   "source": [
    "print(df[\"RPA\"].value_counts())\n",
    "print(\"***********************************\")\n",
    "print(df[\"RPA\"].value_counts(normalize=True))"
   ]
  },
  {
   "cell_type": "code",
   "execution_count": 11,
   "metadata": {},
   "outputs": [
    {
     "name": "stdout",
     "output_type": "stream",
     "text": [
      "GPA_version_2012\n",
      "1.0    152\n",
      "2.0    111\n",
      "3.0     15\n",
      "4.0      8\n",
      "Name: count, dtype: int64\n",
      "***********************************\n",
      "GPA_version_2012\n",
      "1.0    0.531469\n",
      "2.0    0.388112\n",
      "3.0    0.052448\n",
      "4.0    0.027972\n",
      "Name: proportion, dtype: float64\n"
     ]
    }
   ],
   "source": [
    "print(df[\"GPA_version_2012\"].value_counts())\n",
    "print(\"***********************************\")\n",
    "print(df[\"GPA_version_2012\"].value_counts(normalize=True))"
   ]
  },
  {
   "cell_type": "code",
   "execution_count": 12,
   "metadata": {},
   "outputs": [
    {
     "name": "stdout",
     "output_type": "stream",
     "text": [
      "Steroids_before_brain_RT_start\n",
      "1.0    291\n",
      "0.0     96\n",
      "Name: count, dtype: int64\n",
      "***********************************\n",
      "Steroids_before_brain_RT_start\n",
      "1.0    0.751938\n",
      "0.0    0.248062\n",
      "Name: proportion, dtype: float64\n"
     ]
    }
   ],
   "source": [
    "print(df[\"Steroids_before_brain_RT_start\"].value_counts())\n",
    "print(\"***********************************\")\n",
    "print(df[\"Steroids_before_brain_RT_start\"].value_counts(normalize=True))"
   ]
  },
  {
   "cell_type": "code",
   "execution_count": 13,
   "metadata": {},
   "outputs": [
    {
     "name": "stdout",
     "output_type": "stream",
     "text": [
      "RT_technique\n",
      "Whole brain radiotherapy      341\n",
      "Stereotactic radiotherapy      81\n",
      "Partial brain radiotherapy     46\n",
      "Name: count, dtype: int64\n",
      "***********************************\n",
      "RT_technique\n",
      "Whole brain radiotherapy      0.728632\n",
      "Stereotactic radiotherapy     0.173077\n",
      "Partial brain radiotherapy    0.098291\n",
      "Name: proportion, dtype: float64\n"
     ]
    }
   ],
   "source": [
    "print(df[\"RT_technique\"].value_counts())\n",
    "print(\"***********************************\")\n",
    "print(df[\"RT_technique\"].value_counts(normalize=True))"
   ]
  },
  {
   "cell_type": "markdown",
   "metadata": {},
   "source": [
    "### Patients who aborted RT"
   ]
  },
  {
   "cell_type": "code",
   "execution_count": 14,
   "metadata": {},
   "outputs": [
    {
     "data": {
      "text/html": [
       "<div>\n",
       "<style scoped>\n",
       "    .dataframe tbody tr th:only-of-type {\n",
       "        vertical-align: middle;\n",
       "    }\n",
       "\n",
       "    .dataframe tbody tr th {\n",
       "        vertical-align: top;\n",
       "    }\n",
       "\n",
       "    .dataframe thead th {\n",
       "        text-align: right;\n",
       "    }\n",
       "</style>\n",
       "<table border=\"1\" class=\"dataframe\">\n",
       "  <thead>\n",
       "    <tr style=\"text-align: right;\">\n",
       "      <th></th>\n",
       "      <th>Unnamed: 0</th>\n",
       "      <th>RT_aborted</th>\n",
       "      <th>Age_at_brain_RT_start</th>\n",
       "      <th>Sex</th>\n",
       "      <th>Number_of_other_organs_with_mets</th>\n",
       "      <th>ECOG_at_brain_RT_start</th>\n",
       "      <th>Status_of_primary_tumor_at_brain_RT_start</th>\n",
       "      <th>Status_of_extracranial_mets_at_brain_RT_start</th>\n",
       "      <th>Steroids_before_brain_RT_start</th>\n",
       "      <th>Specialized_palliative_care_prior_to_brain_RT_start</th>\n",
       "      <th>RPA</th>\n",
       "      <th>GPA_version_2012</th>\n",
       "    </tr>\n",
       "  </thead>\n",
       "  <tbody>\n",
       "    <tr>\n",
       "      <th>count</th>\n",
       "      <td>35.000000</td>\n",
       "      <td>35.0</td>\n",
       "      <td>35.000000</td>\n",
       "      <td>35.000000</td>\n",
       "      <td>35.000000</td>\n",
       "      <td>35.000000</td>\n",
       "      <td>34.000000</td>\n",
       "      <td>34.000000</td>\n",
       "      <td>34.000000</td>\n",
       "      <td>14.000000</td>\n",
       "      <td>31.000000</td>\n",
       "      <td>25.00000</td>\n",
       "    </tr>\n",
       "    <tr>\n",
       "      <th>mean</th>\n",
       "      <td>222.057143</td>\n",
       "      <td>1.0</td>\n",
       "      <td>64.828571</td>\n",
       "      <td>1.514286</td>\n",
       "      <td>1.771429</td>\n",
       "      <td>1.857143</td>\n",
       "      <td>0.470588</td>\n",
       "      <td>0.147059</td>\n",
       "      <td>0.852941</td>\n",
       "      <td>0.428571</td>\n",
       "      <td>2.645161</td>\n",
       "      <td>1.40000</td>\n",
       "    </tr>\n",
       "    <tr>\n",
       "      <th>std</th>\n",
       "      <td>128.606317</td>\n",
       "      <td>0.0</td>\n",
       "      <td>10.612107</td>\n",
       "      <td>0.507093</td>\n",
       "      <td>1.308023</td>\n",
       "      <td>0.809606</td>\n",
       "      <td>0.506640</td>\n",
       "      <td>0.359491</td>\n",
       "      <td>0.359491</td>\n",
       "      <td>0.513553</td>\n",
       "      <td>0.550659</td>\n",
       "      <td>0.57735</td>\n",
       "    </tr>\n",
       "    <tr>\n",
       "      <th>min</th>\n",
       "      <td>9.000000</td>\n",
       "      <td>1.0</td>\n",
       "      <td>39.000000</td>\n",
       "      <td>1.000000</td>\n",
       "      <td>0.000000</td>\n",
       "      <td>0.000000</td>\n",
       "      <td>0.000000</td>\n",
       "      <td>0.000000</td>\n",
       "      <td>0.000000</td>\n",
       "      <td>0.000000</td>\n",
       "      <td>1.000000</td>\n",
       "      <td>1.00000</td>\n",
       "    </tr>\n",
       "    <tr>\n",
       "      <th>25%</th>\n",
       "      <td>113.500000</td>\n",
       "      <td>1.0</td>\n",
       "      <td>58.000000</td>\n",
       "      <td>1.000000</td>\n",
       "      <td>1.000000</td>\n",
       "      <td>1.000000</td>\n",
       "      <td>0.000000</td>\n",
       "      <td>0.000000</td>\n",
       "      <td>1.000000</td>\n",
       "      <td>0.000000</td>\n",
       "      <td>2.000000</td>\n",
       "      <td>1.00000</td>\n",
       "    </tr>\n",
       "    <tr>\n",
       "      <th>50%</th>\n",
       "      <td>253.000000</td>\n",
       "      <td>1.0</td>\n",
       "      <td>69.000000</td>\n",
       "      <td>2.000000</td>\n",
       "      <td>2.000000</td>\n",
       "      <td>2.000000</td>\n",
       "      <td>0.000000</td>\n",
       "      <td>0.000000</td>\n",
       "      <td>1.000000</td>\n",
       "      <td>0.000000</td>\n",
       "      <td>3.000000</td>\n",
       "      <td>1.00000</td>\n",
       "    </tr>\n",
       "    <tr>\n",
       "      <th>75%</th>\n",
       "      <td>319.500000</td>\n",
       "      <td>1.0</td>\n",
       "      <td>72.000000</td>\n",
       "      <td>2.000000</td>\n",
       "      <td>3.000000</td>\n",
       "      <td>2.000000</td>\n",
       "      <td>1.000000</td>\n",
       "      <td>0.000000</td>\n",
       "      <td>1.000000</td>\n",
       "      <td>1.000000</td>\n",
       "      <td>3.000000</td>\n",
       "      <td>2.00000</td>\n",
       "    </tr>\n",
       "    <tr>\n",
       "      <th>max</th>\n",
       "      <td>429.000000</td>\n",
       "      <td>1.0</td>\n",
       "      <td>82.000000</td>\n",
       "      <td>2.000000</td>\n",
       "      <td>5.000000</td>\n",
       "      <td>4.000000</td>\n",
       "      <td>1.000000</td>\n",
       "      <td>1.000000</td>\n",
       "      <td>1.000000</td>\n",
       "      <td>1.000000</td>\n",
       "      <td>3.000000</td>\n",
       "      <td>3.00000</td>\n",
       "    </tr>\n",
       "  </tbody>\n",
       "</table>\n",
       "</div>"
      ],
      "text/plain": [
       "       Unnamed: 0  RT_aborted  Age_at_brain_RT_start        Sex  \\\n",
       "count   35.000000        35.0              35.000000  35.000000   \n",
       "mean   222.057143         1.0              64.828571   1.514286   \n",
       "std    128.606317         0.0              10.612107   0.507093   \n",
       "min      9.000000         1.0              39.000000   1.000000   \n",
       "25%    113.500000         1.0              58.000000   1.000000   \n",
       "50%    253.000000         1.0              69.000000   2.000000   \n",
       "75%    319.500000         1.0              72.000000   2.000000   \n",
       "max    429.000000         1.0              82.000000   2.000000   \n",
       "\n",
       "       Number_of_other_organs_with_mets  ECOG_at_brain_RT_start  \\\n",
       "count                         35.000000               35.000000   \n",
       "mean                           1.771429                1.857143   \n",
       "std                            1.308023                0.809606   \n",
       "min                            0.000000                0.000000   \n",
       "25%                            1.000000                1.000000   \n",
       "50%                            2.000000                2.000000   \n",
       "75%                            3.000000                2.000000   \n",
       "max                            5.000000                4.000000   \n",
       "\n",
       "       Status_of_primary_tumor_at_brain_RT_start  \\\n",
       "count                                  34.000000   \n",
       "mean                                    0.470588   \n",
       "std                                     0.506640   \n",
       "min                                     0.000000   \n",
       "25%                                     0.000000   \n",
       "50%                                     0.000000   \n",
       "75%                                     1.000000   \n",
       "max                                     1.000000   \n",
       "\n",
       "       Status_of_extracranial_mets_at_brain_RT_start  \\\n",
       "count                                      34.000000   \n",
       "mean                                        0.147059   \n",
       "std                                         0.359491   \n",
       "min                                         0.000000   \n",
       "25%                                         0.000000   \n",
       "50%                                         0.000000   \n",
       "75%                                         0.000000   \n",
       "max                                         1.000000   \n",
       "\n",
       "       Steroids_before_brain_RT_start  \\\n",
       "count                       34.000000   \n",
       "mean                         0.852941   \n",
       "std                          0.359491   \n",
       "min                          0.000000   \n",
       "25%                          1.000000   \n",
       "50%                          1.000000   \n",
       "75%                          1.000000   \n",
       "max                          1.000000   \n",
       "\n",
       "       Specialized_palliative_care_prior_to_brain_RT_start        RPA  \\\n",
       "count                                          14.000000    31.000000   \n",
       "mean                                            0.428571     2.645161   \n",
       "std                                             0.513553     0.550659   \n",
       "min                                             0.000000     1.000000   \n",
       "25%                                             0.000000     2.000000   \n",
       "50%                                             0.000000     3.000000   \n",
       "75%                                             1.000000     3.000000   \n",
       "max                                             1.000000     3.000000   \n",
       "\n",
       "       GPA_version_2012  \n",
       "count          25.00000  \n",
       "mean            1.40000  \n",
       "std             0.57735  \n",
       "min             1.00000  \n",
       "25%             1.00000  \n",
       "50%             1.00000  \n",
       "75%             2.00000  \n",
       "max             3.00000  "
      ]
     },
     "execution_count": 14,
     "metadata": {},
     "output_type": "execute_result"
    }
   ],
   "source": [
    "df_aborted.describe()"
   ]
  },
  {
   "cell_type": "code",
   "execution_count": 15,
   "metadata": {},
   "outputs": [
    {
     "name": "stdout",
     "output_type": "stream",
     "text": [
      "Sex\n",
      "2    18\n",
      "1    17\n",
      "Name: count, dtype: int64\n",
      "***********************************\n",
      "Sex\n",
      "2    0.514286\n",
      "1    0.485714\n",
      "Name: proportion, dtype: float64\n"
     ]
    }
   ],
   "source": [
    "print(df_aborted[\"Sex\"].value_counts())\n",
    "print(\"***********************************\")\n",
    "print(df_aborted[\"Sex\"].value_counts(normalize=True))"
   ]
  },
  {
   "cell_type": "code",
   "execution_count": 16,
   "metadata": {},
   "outputs": [
    {
     "name": "stdout",
     "output_type": "stream",
     "text": [
      "Status_of_primary_tumor_at_brain_RT_start\n",
      "0.0    18\n",
      "1.0    16\n",
      "Name: count, dtype: int64\n",
      "***********************************\n",
      "Status_of_primary_tumor_at_brain_RT_start\n",
      "0.0    0.529412\n",
      "1.0    0.470588\n",
      "Name: proportion, dtype: float64\n"
     ]
    }
   ],
   "source": [
    "print(df_aborted[\"Status_of_primary_tumor_at_brain_RT_start\"].value_counts())\n",
    "print(\"***********************************\")\n",
    "print(df_aborted[\"Status_of_primary_tumor_at_brain_RT_start\"].value_counts(normalize=True))"
   ]
  },
  {
   "cell_type": "code",
   "execution_count": 17,
   "metadata": {},
   "outputs": [
    {
     "name": "stdout",
     "output_type": "stream",
     "text": [
      "Status_of_extracranial_mets_at_brain_RT_start\n",
      "0.0    29\n",
      "1.0     5\n",
      "Name: count, dtype: int64\n",
      "***********************************\n",
      "Status_of_extracranial_mets_at_brain_RT_start\n",
      "0.0    0.852941\n",
      "1.0    0.147059\n",
      "Name: proportion, dtype: float64\n"
     ]
    }
   ],
   "source": [
    "print(df_aborted[\"Status_of_extracranial_mets_at_brain_RT_start\"].value_counts())\n",
    "print(\"***********************************\")\n",
    "print(df_aborted[\"Status_of_extracranial_mets_at_brain_RT_start\"].value_counts(normalize=True))"
   ]
  },
  {
   "cell_type": "code",
   "execution_count": 18,
   "metadata": {},
   "outputs": [
    {
     "name": "stdout",
     "output_type": "stream",
     "text": [
      "Number_of_brainmets_at_RT_start\n",
      "3 or more                 19\n",
      "Leptomeningeal disease     7\n",
      "1                          5\n",
      "2                          4\n",
      "Name: count, dtype: int64\n",
      "***********************************\n",
      "Number_of_brainmets_at_RT_start\n",
      "3 or more                 0.542857\n",
      "Leptomeningeal disease    0.200000\n",
      "1                         0.142857\n",
      "2                         0.114286\n",
      "Name: proportion, dtype: float64\n"
     ]
    }
   ],
   "source": [
    "print(df_aborted[\"Number_of_brainmets_at_RT_start\"].value_counts())\n",
    "print(\"***********************************\")\n",
    "print(df_aborted[\"Number_of_brainmets_at_RT_start\"].value_counts(normalize=True))"
   ]
  },
  {
   "cell_type": "code",
   "execution_count": 19,
   "metadata": {},
   "outputs": [
    {
     "name": "stdout",
     "output_type": "stream",
     "text": [
      "RPA\n",
      "3.0    21\n",
      "2.0     9\n",
      "1.0     1\n",
      "Name: count, dtype: int64\n",
      "***********************************\n",
      "RPA\n",
      "3.0    0.677419\n",
      "2.0    0.290323\n",
      "1.0    0.032258\n",
      "Name: proportion, dtype: float64\n"
     ]
    }
   ],
   "source": [
    "print(df_aborted[\"RPA\"].value_counts())\n",
    "print(\"***********************************\")\n",
    "print(df_aborted[\"RPA\"].value_counts(normalize=True))"
   ]
  },
  {
   "cell_type": "code",
   "execution_count": 20,
   "metadata": {},
   "outputs": [
    {
     "name": "stdout",
     "output_type": "stream",
     "text": [
      "GPA_version_2012\n",
      "1.0    16\n",
      "2.0     8\n",
      "3.0     1\n",
      "Name: count, dtype: int64\n",
      "***********************************\n",
      "GPA_version_2012\n",
      "1.0    0.64\n",
      "2.0    0.32\n",
      "3.0    0.04\n",
      "Name: proportion, dtype: float64\n"
     ]
    }
   ],
   "source": [
    "print(df_aborted[\"GPA_version_2012\"].value_counts())\n",
    "print(\"***********************************\")\n",
    "print(df_aborted[\"GPA_version_2012\"].value_counts(normalize=True))"
   ]
  },
  {
   "cell_type": "code",
   "execution_count": 21,
   "metadata": {},
   "outputs": [
    {
     "name": "stdout",
     "output_type": "stream",
     "text": [
      "Steroids_before_brain_RT_start\n",
      "1.0    29\n",
      "0.0     5\n",
      "Name: count, dtype: int64\n",
      "***********************************\n",
      "Steroids_before_brain_RT_start\n",
      "1.0    0.852941\n",
      "0.0    0.147059\n",
      "Name: proportion, dtype: float64\n"
     ]
    }
   ],
   "source": [
    "print(df_aborted[\"Steroids_before_brain_RT_start\"].value_counts())\n",
    "print(\"***********************************\")\n",
    "print(df_aborted[\"Steroids_before_brain_RT_start\"].value_counts(normalize=True))"
   ]
  },
  {
   "cell_type": "code",
   "execution_count": 22,
   "metadata": {},
   "outputs": [
    {
     "name": "stdout",
     "output_type": "stream",
     "text": [
      "RT_technique\n",
      "Whole brain radiotherapy      30\n",
      "Stereotactic radiotherapy      3\n",
      "Partial brain radiotherapy     2\n",
      "Name: count, dtype: int64\n",
      "***********************************\n",
      "RT_technique\n",
      "Whole brain radiotherapy      0.857143\n",
      "Stereotactic radiotherapy     0.085714\n",
      "Partial brain radiotherapy    0.057143\n",
      "Name: proportion, dtype: float64\n"
     ]
    }
   ],
   "source": [
    "print(df_aborted[\"RT_technique\"].value_counts())\n",
    "print(\"***********************************\")\n",
    "print(df_aborted[\"RT_technique\"].value_counts(normalize=True))"
   ]
  },
  {
   "cell_type": "markdown",
   "metadata": {},
   "source": [
    "### Patients who completed RT"
   ]
  },
  {
   "cell_type": "code",
   "execution_count": 23,
   "metadata": {},
   "outputs": [
    {
     "data": {
      "text/html": [
       "<div>\n",
       "<style scoped>\n",
       "    .dataframe tbody tr th:only-of-type {\n",
       "        vertical-align: middle;\n",
       "    }\n",
       "\n",
       "    .dataframe tbody tr th {\n",
       "        vertical-align: top;\n",
       "    }\n",
       "\n",
       "    .dataframe thead th {\n",
       "        text-align: right;\n",
       "    }\n",
       "</style>\n",
       "<table border=\"1\" class=\"dataframe\">\n",
       "  <thead>\n",
       "    <tr style=\"text-align: right;\">\n",
       "      <th></th>\n",
       "      <th>Unnamed: 0</th>\n",
       "      <th>RT_aborted</th>\n",
       "      <th>Age_at_brain_RT_start</th>\n",
       "      <th>Sex</th>\n",
       "      <th>Number_of_other_organs_with_mets</th>\n",
       "      <th>ECOG_at_brain_RT_start</th>\n",
       "      <th>Status_of_primary_tumor_at_brain_RT_start</th>\n",
       "      <th>Status_of_extracranial_mets_at_brain_RT_start</th>\n",
       "      <th>Steroids_before_brain_RT_start</th>\n",
       "      <th>Specialized_palliative_care_prior_to_brain_RT_start</th>\n",
       "      <th>RPA</th>\n",
       "      <th>GPA_version_2012</th>\n",
       "    </tr>\n",
       "  </thead>\n",
       "  <tbody>\n",
       "    <tr>\n",
       "      <th>count</th>\n",
       "      <td>433.000000</td>\n",
       "      <td>433.0</td>\n",
       "      <td>433.000000</td>\n",
       "      <td>433.000000</td>\n",
       "      <td>433.000000</td>\n",
       "      <td>417.000000</td>\n",
       "      <td>430.000000</td>\n",
       "      <td>421.000000</td>\n",
       "      <td>353.000000</td>\n",
       "      <td>135.000000</td>\n",
       "      <td>329.000000</td>\n",
       "      <td>261.000000</td>\n",
       "    </tr>\n",
       "    <tr>\n",
       "      <th>mean</th>\n",
       "      <td>234.424942</td>\n",
       "      <td>0.0</td>\n",
       "      <td>65.226328</td>\n",
       "      <td>1.531178</td>\n",
       "      <td>1.473441</td>\n",
       "      <td>1.390887</td>\n",
       "      <td>0.483721</td>\n",
       "      <td>0.292162</td>\n",
       "      <td>0.742210</td>\n",
       "      <td>0.177778</td>\n",
       "      <td>2.367781</td>\n",
       "      <td>1.593870</td>\n",
       "    </tr>\n",
       "    <tr>\n",
       "      <th>std</th>\n",
       "      <td>135.866542</td>\n",
       "      <td>0.0</td>\n",
       "      <td>10.912300</td>\n",
       "      <td>0.499604</td>\n",
       "      <td>1.441727</td>\n",
       "      <td>0.792521</td>\n",
       "      <td>0.500317</td>\n",
       "      <td>0.455297</td>\n",
       "      <td>0.438039</td>\n",
       "      <td>0.383750</td>\n",
       "      <td>0.611123</td>\n",
       "      <td>0.731043</td>\n",
       "    </tr>\n",
       "    <tr>\n",
       "      <th>min</th>\n",
       "      <td>0.000000</td>\n",
       "      <td>0.0</td>\n",
       "      <td>26.000000</td>\n",
       "      <td>1.000000</td>\n",
       "      <td>0.000000</td>\n",
       "      <td>0.000000</td>\n",
       "      <td>0.000000</td>\n",
       "      <td>0.000000</td>\n",
       "      <td>0.000000</td>\n",
       "      <td>0.000000</td>\n",
       "      <td>1.000000</td>\n",
       "      <td>1.000000</td>\n",
       "    </tr>\n",
       "    <tr>\n",
       "      <th>25%</th>\n",
       "      <td>117.000000</td>\n",
       "      <td>0.0</td>\n",
       "      <td>58.000000</td>\n",
       "      <td>1.000000</td>\n",
       "      <td>0.000000</td>\n",
       "      <td>1.000000</td>\n",
       "      <td>0.000000</td>\n",
       "      <td>0.000000</td>\n",
       "      <td>0.000000</td>\n",
       "      <td>0.000000</td>\n",
       "      <td>2.000000</td>\n",
       "      <td>1.000000</td>\n",
       "    </tr>\n",
       "    <tr>\n",
       "      <th>50%</th>\n",
       "      <td>231.000000</td>\n",
       "      <td>0.0</td>\n",
       "      <td>66.000000</td>\n",
       "      <td>2.000000</td>\n",
       "      <td>1.000000</td>\n",
       "      <td>1.000000</td>\n",
       "      <td>0.000000</td>\n",
       "      <td>0.000000</td>\n",
       "      <td>1.000000</td>\n",
       "      <td>0.000000</td>\n",
       "      <td>2.000000</td>\n",
       "      <td>1.000000</td>\n",
       "    </tr>\n",
       "    <tr>\n",
       "      <th>75%</th>\n",
       "      <td>356.000000</td>\n",
       "      <td>0.0</td>\n",
       "      <td>73.000000</td>\n",
       "      <td>2.000000</td>\n",
       "      <td>2.000000</td>\n",
       "      <td>2.000000</td>\n",
       "      <td>1.000000</td>\n",
       "      <td>1.000000</td>\n",
       "      <td>1.000000</td>\n",
       "      <td>0.000000</td>\n",
       "      <td>3.000000</td>\n",
       "      <td>2.000000</td>\n",
       "    </tr>\n",
       "    <tr>\n",
       "      <th>max</th>\n",
       "      <td>467.000000</td>\n",
       "      <td>0.0</td>\n",
       "      <td>91.000000</td>\n",
       "      <td>2.000000</td>\n",
       "      <td>8.000000</td>\n",
       "      <td>4.000000</td>\n",
       "      <td>1.000000</td>\n",
       "      <td>1.000000</td>\n",
       "      <td>1.000000</td>\n",
       "      <td>1.000000</td>\n",
       "      <td>3.000000</td>\n",
       "      <td>4.000000</td>\n",
       "    </tr>\n",
       "  </tbody>\n",
       "</table>\n",
       "</div>"
      ],
      "text/plain": [
       "       Unnamed: 0  RT_aborted  Age_at_brain_RT_start         Sex  \\\n",
       "count  433.000000       433.0             433.000000  433.000000   \n",
       "mean   234.424942         0.0              65.226328    1.531178   \n",
       "std    135.866542         0.0              10.912300    0.499604   \n",
       "min      0.000000         0.0              26.000000    1.000000   \n",
       "25%    117.000000         0.0              58.000000    1.000000   \n",
       "50%    231.000000         0.0              66.000000    2.000000   \n",
       "75%    356.000000         0.0              73.000000    2.000000   \n",
       "max    467.000000         0.0              91.000000    2.000000   \n",
       "\n",
       "       Number_of_other_organs_with_mets  ECOG_at_brain_RT_start  \\\n",
       "count                        433.000000              417.000000   \n",
       "mean                           1.473441                1.390887   \n",
       "std                            1.441727                0.792521   \n",
       "min                            0.000000                0.000000   \n",
       "25%                            0.000000                1.000000   \n",
       "50%                            1.000000                1.000000   \n",
       "75%                            2.000000                2.000000   \n",
       "max                            8.000000                4.000000   \n",
       "\n",
       "       Status_of_primary_tumor_at_brain_RT_start  \\\n",
       "count                                 430.000000   \n",
       "mean                                    0.483721   \n",
       "std                                     0.500317   \n",
       "min                                     0.000000   \n",
       "25%                                     0.000000   \n",
       "50%                                     0.000000   \n",
       "75%                                     1.000000   \n",
       "max                                     1.000000   \n",
       "\n",
       "       Status_of_extracranial_mets_at_brain_RT_start  \\\n",
       "count                                     421.000000   \n",
       "mean                                        0.292162   \n",
       "std                                         0.455297   \n",
       "min                                         0.000000   \n",
       "25%                                         0.000000   \n",
       "50%                                         0.000000   \n",
       "75%                                         1.000000   \n",
       "max                                         1.000000   \n",
       "\n",
       "       Steroids_before_brain_RT_start  \\\n",
       "count                      353.000000   \n",
       "mean                         0.742210   \n",
       "std                          0.438039   \n",
       "min                          0.000000   \n",
       "25%                          0.000000   \n",
       "50%                          1.000000   \n",
       "75%                          1.000000   \n",
       "max                          1.000000   \n",
       "\n",
       "       Specialized_palliative_care_prior_to_brain_RT_start         RPA  \\\n",
       "count                                         135.000000    329.000000   \n",
       "mean                                            0.177778      2.367781   \n",
       "std                                             0.383750      0.611123   \n",
       "min                                             0.000000      1.000000   \n",
       "25%                                             0.000000      2.000000   \n",
       "50%                                             0.000000      2.000000   \n",
       "75%                                             0.000000      3.000000   \n",
       "max                                             1.000000      3.000000   \n",
       "\n",
       "       GPA_version_2012  \n",
       "count        261.000000  \n",
       "mean           1.593870  \n",
       "std            0.731043  \n",
       "min            1.000000  \n",
       "25%            1.000000  \n",
       "50%            1.000000  \n",
       "75%            2.000000  \n",
       "max            4.000000  "
      ]
     },
     "execution_count": 23,
     "metadata": {},
     "output_type": "execute_result"
    }
   ],
   "source": [
    "df_completed.describe()"
   ]
  },
  {
   "cell_type": "code",
   "execution_count": 24,
   "metadata": {},
   "outputs": [
    {
     "name": "stdout",
     "output_type": "stream",
     "text": [
      "Sex\n",
      "2    230\n",
      "1    203\n",
      "Name: count, dtype: int64\n",
      "***********************************\n",
      "Sex\n",
      "2    0.531178\n",
      "1    0.468822\n",
      "Name: proportion, dtype: float64\n"
     ]
    }
   ],
   "source": [
    "print(df_completed[\"Sex\"].value_counts())\n",
    "print(\"***********************************\")\n",
    "print(df_completed[\"Sex\"].value_counts(normalize=True))"
   ]
  },
  {
   "cell_type": "code",
   "execution_count": 25,
   "metadata": {},
   "outputs": [
    {
     "name": "stdout",
     "output_type": "stream",
     "text": [
      "Status_of_primary_tumor_at_brain_RT_start\n",
      "0.0    222\n",
      "1.0    208\n",
      "Name: count, dtype: int64\n",
      "***********************************\n",
      "Status_of_primary_tumor_at_brain_RT_start\n",
      "0.0    0.516279\n",
      "1.0    0.483721\n",
      "Name: proportion, dtype: float64\n"
     ]
    }
   ],
   "source": [
    "print(df_completed[\"Status_of_primary_tumor_at_brain_RT_start\"].value_counts())\n",
    "print(\"***********************************\")\n",
    "print(df_completed[\"Status_of_primary_tumor_at_brain_RT_start\"].value_counts(normalize=True))"
   ]
  },
  {
   "cell_type": "code",
   "execution_count": 26,
   "metadata": {},
   "outputs": [
    {
     "name": "stdout",
     "output_type": "stream",
     "text": [
      "Status_of_extracranial_mets_at_brain_RT_start\n",
      "0.0    298\n",
      "1.0    123\n",
      "Name: count, dtype: int64\n",
      "***********************************\n",
      "Status_of_extracranial_mets_at_brain_RT_start\n",
      "0.0    0.707838\n",
      "1.0    0.292162\n",
      "Name: proportion, dtype: float64\n"
     ]
    }
   ],
   "source": [
    "print(df_completed[\"Status_of_extracranial_mets_at_brain_RT_start\"].value_counts())\n",
    "print(\"***********************************\")\n",
    "print(df_completed[\"Status_of_extracranial_mets_at_brain_RT_start\"].value_counts(normalize=True))"
   ]
  },
  {
   "cell_type": "code",
   "execution_count": 27,
   "metadata": {},
   "outputs": [
    {
     "name": "stdout",
     "output_type": "stream",
     "text": [
      "Number_of_brainmets_at_RT_start\n",
      "3 or more                 198\n",
      "1                         104\n",
      "2                          73\n",
      "Leptomeningeal disease     54\n",
      "Name: count, dtype: int64\n",
      "***********************************\n",
      "Number_of_brainmets_at_RT_start\n",
      "3 or more                 0.461538\n",
      "1                         0.242424\n",
      "2                         0.170163\n",
      "Leptomeningeal disease    0.125874\n",
      "Name: proportion, dtype: float64\n"
     ]
    }
   ],
   "source": [
    "print(df_completed[\"Number_of_brainmets_at_RT_start\"].value_counts())\n",
    "print(\"***********************************\")\n",
    "print(df_completed[\"Number_of_brainmets_at_RT_start\"].value_counts(normalize=True))"
   ]
  },
  {
   "cell_type": "code",
   "execution_count": 28,
   "metadata": {},
   "outputs": [
    {
     "name": "stdout",
     "output_type": "stream",
     "text": [
      "RPA\n",
      "2.0    162\n",
      "3.0    144\n",
      "1.0     23\n",
      "Name: count, dtype: int64\n",
      "***********************************\n",
      "RPA\n",
      "2.0    0.492401\n",
      "3.0    0.437690\n",
      "1.0    0.069909\n",
      "Name: proportion, dtype: float64\n"
     ]
    }
   ],
   "source": [
    "print(df_completed[\"RPA\"].value_counts())\n",
    "print(\"***********************************\")\n",
    "print(df_completed[\"RPA\"].value_counts(normalize=True))"
   ]
  },
  {
   "cell_type": "code",
   "execution_count": 29,
   "metadata": {},
   "outputs": [
    {
     "name": "stdout",
     "output_type": "stream",
     "text": [
      "GPA_version_2012\n",
      "1.0    136\n",
      "2.0    103\n",
      "3.0     14\n",
      "4.0      8\n",
      "Name: count, dtype: int64\n",
      "***********************************\n",
      "GPA_version_2012\n",
      "1.0    0.521073\n",
      "2.0    0.394636\n",
      "3.0    0.053640\n",
      "4.0    0.030651\n",
      "Name: proportion, dtype: float64\n"
     ]
    }
   ],
   "source": [
    "print(df_completed[\"GPA_version_2012\"].value_counts())\n",
    "print(\"***********************************\")\n",
    "print(df_completed[\"GPA_version_2012\"].value_counts(normalize=True))"
   ]
  },
  {
   "cell_type": "code",
   "execution_count": 30,
   "metadata": {},
   "outputs": [
    {
     "name": "stdout",
     "output_type": "stream",
     "text": [
      "Steroids_before_brain_RT_start\n",
      "1.0    262\n",
      "0.0     91\n",
      "Name: count, dtype: int64\n",
      "***********************************\n",
      "Steroids_before_brain_RT_start\n",
      "1.0    0.74221\n",
      "0.0    0.25779\n",
      "Name: proportion, dtype: float64\n"
     ]
    }
   ],
   "source": [
    "print(df_completed[\"Steroids_before_brain_RT_start\"].value_counts())\n",
    "print(\"***********************************\")\n",
    "print(df_completed[\"Steroids_before_brain_RT_start\"].value_counts(normalize=True))"
   ]
  },
  {
   "cell_type": "code",
   "execution_count": 31,
   "metadata": {},
   "outputs": [
    {
     "name": "stdout",
     "output_type": "stream",
     "text": [
      "RT_technique\n",
      "Whole brain radiotherapy      311\n",
      "Stereotactic radiotherapy      78\n",
      "Partial brain radiotherapy     44\n",
      "Name: count, dtype: int64\n",
      "***********************************\n",
      "RT_technique\n",
      "Whole brain radiotherapy      0.718245\n",
      "Stereotactic radiotherapy     0.180139\n",
      "Partial brain radiotherapy    0.101617\n",
      "Name: proportion, dtype: float64\n"
     ]
    }
   ],
   "source": [
    "print(df_completed[\"RT_technique\"].value_counts())\n",
    "print(\"***********************************\")\n",
    "print(df_completed[\"RT_technique\"].value_counts(normalize=True))"
   ]
  },
  {
   "cell_type": "markdown",
   "metadata": {},
   "source": [
    "## Plots"
   ]
  },
  {
   "cell_type": "markdown",
   "metadata": {},
   "source": [
    "### Age"
   ]
  },
  {
   "cell_type": "code",
   "execution_count": 32,
   "metadata": {},
   "outputs": [
    {
     "data": {
      "image/png": "[encoded data removed]",
      "text/plain": [
       "<Figure size 640x480 with 1 Axes>"
      ]
     },
     "metadata": {},
     "output_type": "display_data"
    }
   ],
   "source": [
    "# Patients who aborted RT\n",
    "fig, ax = plt.subplots()\n",
    "sns.histplot(data=df_aborted, x=\"Age_at_brain_RT_start\", binwidth=10, binrange=(30,100), color=\"indianred\")\n",
    "ax.set_xlabel(\"Age [years]\")\n",
    "ax.set_ylabel(\"No. of patients\")\n",
    "ax.set_yticks(np.arange(0,16,5))\n",
    "fig.savefig(\"plots/Age_at_brain_RT_start_aborted.png\", bbox_inches='tight')"
   ]
  },
  {
   "cell_type": "code",
   "execution_count": 33,
   "metadata": {},
   "outputs": [
    {
     "data": {
      "image/png": "[encoded data removed]",
      "text/plain": [
       "<Figure size 640x480 with 1 Axes>"
      ]
     },
     "metadata": {},
     "output_type": "display_data"
    }
   ],
   "source": [
    "# Patients who completed RT\n",
    "fig, ax = plt.subplots()\n",
    "sns.histplot(data=df_completed, x=\"Age_at_brain_RT_start\", binwidth=10, binrange=(30,100))\n",
    "ax.set_xlabel(\"Age [years]\")\n",
    "ax.set_ylabel(\"No. of patients\")\n",
    "fig.savefig(\"plots/Age_at_brain_RT_start_completed.png\", bbox_inches='tight')"
   ]
  },
  {
   "cell_type": "markdown",
   "metadata": {},
   "source": [
    "### Number of other organs with metastases"
   ]
  },
  {
   "cell_type": "code",
   "execution_count": 34,
   "metadata": {},
   "outputs": [
    {
     "data": {
      "image/png": "[encoded data removed]",
      "text/plain": [
       "<Figure size 640x480 with 1 Axes>"
      ]
     },
     "metadata": {},
     "output_type": "display_data"
    }
   ],
   "source": [
    "# Patients who aborted RT\n",
    "fig, ax = plt.subplots()\n",
    "sns.histplot(data=df_aborted, x=\"Number_of_other_organs_with_mets\", binwidth=1, binrange=(-0.5,6.5), color=\"indianred\")\n",
    "ax.set_xlabel(\"Number of other organs with metastases\")\n",
    "ax.set_xticks(np.arange(0, 7, 1))\n",
    "ax.set_ylabel(\"No. of patients\")\n",
    "fig.savefig(\"plots/Number_of_other_organs_with_mets_aborted.png\", bbox_inches='tight')"
   ]
  },
  {
   "cell_type": "code",
   "execution_count": 35,
   "metadata": {},
   "outputs": [
    {
     "data": {
      "image/png": "[encoded data removed]",
      "text/plain": [
       "<Figure size 640x480 with 1 Axes>"
      ]
     },
     "metadata": {},
     "output_type": "display_data"
    }
   ],
   "source": [
    "# Patients who completed RT\n",
    "fig, ax = plt.subplots()\n",
    "sns.histplot(data=df_completed, x=\"Number_of_other_organs_with_mets\", binwidth=1, binrange=(-0.5,6.5))\n",
    "ax.set_xlabel(\"Number of other organs with metastases\")\n",
    "ax.set_xticks(np.arange(0, 7, 1))\n",
    "ax.set_ylabel(\"No. of patients\")\n",
    "fig.savefig(\"plots/Number_of_other_organs_with_mets_completed.png\", bbox_inches='tight')"
   ]
  },
  {
   "cell_type": "markdown",
   "metadata": {},
   "source": [
    "### ECOG at brain RT start"
   ]
  },
  {
   "cell_type": "code",
   "execution_count": 36,
   "metadata": {},
   "outputs": [
    {
     "data": {
      "image/png": "[encoded data removed]",
      "text/plain": [
       "<Figure size 640x480 with 1 Axes>"
      ]
     },
     "metadata": {},
     "output_type": "display_data"
    }
   ],
   "source": [
    "# Patients who aborted RT\n",
    "fig, ax = plt.subplots()\n",
    "sns.histplot(data=df_aborted, x=\"ECOG_at_brain_RT_start\", binwidth=1, binrange=(-0.5,5.5), color=\"indianred\")\n",
    "ax.set_xlabel(\"ECOG Performance Status\")\n",
    "ax.set_xticks(np.arange(0, 6, 1))\n",
    "ax.set_yticks(np.arange(0, 21, 5))\n",
    "ax.set_ylabel(\"No. of patients\")\n",
    "fig.savefig(\"plots/ECOG_at_brain_RT_start_aborted.png\", bbox_inches='tight')"
   ]
  },
  {
   "cell_type": "code",
   "execution_count": 37,
   "metadata": {},
   "outputs": [
    {
     "data": {
      "image/png": "[encoded data removed]",
      "text/plain": [
       "<Figure size 640x480 with 1 Axes>"
      ]
     },
     "metadata": {},
     "output_type": "display_data"
    }
   ],
   "source": [
    "# Patients who completed RT\n",
    "fig, ax = plt.subplots()\n",
    "sns.histplot(data=df_completed, x=\"ECOG_at_brain_RT_start\", binwidth=1, binrange=(-0.5,5.5))\n",
    "ax.set_xlabel(\"ECOG Performance Status\")\n",
    "ax.set_xticks(np.arange(0, 6, 1))\n",
    "ax.set_ylabel(\"No. of patients\")\n",
    "fig.savefig(\"plots/ECOG_at_brain_RT_start_completed.png\", bbox_inches='tight')\n"
   ]
  },
  {
   "cell_type": "markdown",
   "metadata": {},
   "source": [
    "## RPA"
   ]
  },
  {
   "cell_type": "code",
   "execution_count": 38,
   "metadata": {},
   "outputs": [
    {
     "data": {
      "image/png": "[encoded data removed]",
      "text/plain": [
       "<Figure size 640x480 with 1 Axes>"
      ]
     },
     "metadata": {},
     "output_type": "display_data"
    }
   ],
   "source": [
    "fig, ax = plt.subplots()\n",
    "sns.histplot(data=df, x=\"RPA\", hue=\"RT_aborted\", multiple=\"stack\", shrink=.8, binwidth=1, binrange=(0.5,3.5), palette=[\"steelblue\", \"indianred\"])\n",
    "ax.set_xlabel(\"RPA group\")\n",
    "ax.set_xticks(np.arange(1, 4, 1))\n",
    "ax.set_ylabel(\"No. of patients\")\n",
    "plt.legend(labels=[\"RT discontinued\", \"RT completed\"], loc=\"upper left\")\n",
    "fig.savefig(\"plots/RPA.png\", bbox_inches='tight')"
   ]
  },
  {
   "cell_type": "markdown",
   "metadata": {},
   "source": [
    "## GPA"
   ]
  },
  {
   "cell_type": "code",
   "execution_count": 39,
   "metadata": {},
   "outputs": [
    {
     "data": {
      "image/png": "[encoded data removed]",
      "text/plain": [
       "<Figure size 640x480 with 1 Axes>"
      ]
     },
     "metadata": {},
     "output_type": "display_data"
    }
   ],
   "source": [
    "fig, ax = plt.subplots()\n",
    "sns.histplot(data=df, x=\"GPA_version_2012\", hue=\"RT_aborted\", multiple=\"stack\", shrink=.8, binwidth=1, binrange=(0.5,4.5), palette=[\"steelblue\", \"indianred\"])\n",
    "ax.set_xlabel(\"GPA group\")\n",
    "ax.set_xticks(np.arange(1, 5, 1))\n",
    "ax.set_ylabel(\"No. of patients\")\n",
    "plt.legend(labels=[\"RT discontinued\", \"RT completed\"], loc=\"upper right\")\n",
    "fig.savefig(\"plots/GPA.png\", bbox_inches='tight')"
   ]
  },
  {
   "cell_type": "markdown",
   "metadata": {},
   "source": [
    "# Statistical tests"
   ]
  },
  {
   "cell_type": "markdown",
   "metadata": {},
   "source": [
    "## GPA"
   ]
  },
  {
   "cell_type": "code",
   "execution_count": 40,
   "metadata": {},
   "outputs": [
    {
     "data": {
      "text/html": [
       "<div>\n",
       "<style scoped>\n",
       "    .dataframe tbody tr th:only-of-type {\n",
       "        vertical-align: middle;\n",
       "    }\n",
       "\n",
       "    .dataframe tbody tr th {\n",
       "        vertical-align: top;\n",
       "    }\n",
       "\n",
       "    .dataframe thead th {\n",
       "        text-align: right;\n",
       "    }\n",
       "</style>\n",
       "<table border=\"1\" class=\"dataframe\">\n",
       "  <thead>\n",
       "    <tr style=\"text-align: right;\">\n",
       "      <th></th>\n",
       "      <th>Unnamed: 0</th>\n",
       "      <th>RT_aborted</th>\n",
       "      <th>Age_at_brain_RT_start</th>\n",
       "      <th>Sex</th>\n",
       "      <th>Primary_tumor_histology</th>\n",
       "      <th>Number_of_brainmets_at_RT_start</th>\n",
       "      <th>Number_of_other_organs_with_mets</th>\n",
       "      <th>ECOG_at_brain_RT_start</th>\n",
       "      <th>Status_of_primary_tumor_at_brain_RT_start</th>\n",
       "      <th>Status_of_extracranial_mets_at_brain_RT_start</th>\n",
       "      <th>RT_technique</th>\n",
       "      <th>Steroids_before_brain_RT_start</th>\n",
       "      <th>Specialized_palliative_care_prior_to_brain_RT_start</th>\n",
       "      <th>RPA</th>\n",
       "      <th>GPA_version_2012</th>\n",
       "    </tr>\n",
       "  </thead>\n",
       "  <tbody>\n",
       "    <tr>\n",
       "      <th>0</th>\n",
       "      <td>0</td>\n",
       "      <td>0</td>\n",
       "      <td>26</td>\n",
       "      <td>2</td>\n",
       "      <td>Breast</td>\n",
       "      <td>Leptomeningeal disease</td>\n",
       "      <td>0</td>\n",
       "      <td>1.0</td>\n",
       "      <td>1.0</td>\n",
       "      <td>0.0</td>\n",
       "      <td>Whole brain radiotherapy</td>\n",
       "      <td>0.0</td>\n",
       "      <td>0.0</td>\n",
       "      <td>1.0</td>\n",
       "      <td>2.0</td>\n",
       "    </tr>\n",
       "    <tr>\n",
       "      <th>1</th>\n",
       "      <td>1</td>\n",
       "      <td>0</td>\n",
       "      <td>28</td>\n",
       "      <td>2</td>\n",
       "      <td>Breast</td>\n",
       "      <td>Leptomeningeal disease</td>\n",
       "      <td>2</td>\n",
       "      <td>3.0</td>\n",
       "      <td>0.0</td>\n",
       "      <td>0.0</td>\n",
       "      <td>Whole brain radiotherapy</td>\n",
       "      <td>0.0</td>\n",
       "      <td>0.0</td>\n",
       "      <td>3.0</td>\n",
       "      <td>2.0</td>\n",
       "    </tr>\n",
       "    <tr>\n",
       "      <th>2</th>\n",
       "      <td>2</td>\n",
       "      <td>0</td>\n",
       "      <td>32</td>\n",
       "      <td>2</td>\n",
       "      <td>Breast</td>\n",
       "      <td>3 or more</td>\n",
       "      <td>0</td>\n",
       "      <td>NaN</td>\n",
       "      <td>1.0</td>\n",
       "      <td>0.0</td>\n",
       "      <td>Whole brain radiotherapy</td>\n",
       "      <td>0.0</td>\n",
       "      <td>NaN</td>\n",
       "      <td>NaN</td>\n",
       "      <td>NaN</td>\n",
       "    </tr>\n",
       "    <tr>\n",
       "      <th>3</th>\n",
       "      <td>3</td>\n",
       "      <td>0</td>\n",
       "      <td>32</td>\n",
       "      <td>2</td>\n",
       "      <td>Breast</td>\n",
       "      <td>3 or more</td>\n",
       "      <td>0</td>\n",
       "      <td>NaN</td>\n",
       "      <td>1.0</td>\n",
       "      <td>0.0</td>\n",
       "      <td>Whole brain radiotherapy</td>\n",
       "      <td>0.0</td>\n",
       "      <td>NaN</td>\n",
       "      <td>NaN</td>\n",
       "      <td>NaN</td>\n",
       "    </tr>\n",
       "    <tr>\n",
       "      <th>4</th>\n",
       "      <td>4</td>\n",
       "      <td>0</td>\n",
       "      <td>32</td>\n",
       "      <td>2</td>\n",
       "      <td>Breast</td>\n",
       "      <td>NaN</td>\n",
       "      <td>0</td>\n",
       "      <td>NaN</td>\n",
       "      <td>0.0</td>\n",
       "      <td>0.0</td>\n",
       "      <td>Whole brain radiotherapy</td>\n",
       "      <td>NaN</td>\n",
       "      <td>NaN</td>\n",
       "      <td>NaN</td>\n",
       "      <td>NaN</td>\n",
       "    </tr>\n",
       "  </tbody>\n",
       "</table>\n",
       "</div>"
      ],
      "text/plain": [
       "   Unnamed: 0  RT_aborted  Age_at_brain_RT_start  Sex Primary_tumor_histology  \\\n",
       "0           0           0                     26    2                  Breast   \n",
       "1           1           0                     28    2                  Breast   \n",
       "2           2           0                     32    2                  Breast   \n",
       "3           3           0                     32    2                  Breast   \n",
       "4           4           0                     32    2                  Breast   \n",
       "\n",
       "  Number_of_brainmets_at_RT_start  Number_of_other_organs_with_mets  \\\n",
       "0          Leptomeningeal disease                                 0   \n",
       "1          Leptomeningeal disease                                 2   \n",
       "2                       3 or more                                 0   \n",
       "3                       3 or more                                 0   \n",
       "4                             NaN                                 0   \n",
       "\n",
       "   ECOG_at_brain_RT_start  Status_of_primary_tumor_at_brain_RT_start  \\\n",
       "0                     1.0                                        1.0   \n",
       "1                     3.0                                        0.0   \n",
       "2                     NaN                                        1.0   \n",
       "3                     NaN                                        1.0   \n",
       "4                     NaN                                        0.0   \n",
       "\n",
       "   Status_of_extracranial_mets_at_brain_RT_start              RT_technique  \\\n",
       "0                                            0.0  Whole brain radiotherapy   \n",
       "1                                            0.0  Whole brain radiotherapy   \n",
       "2                                            0.0  Whole brain radiotherapy   \n",
       "3                                            0.0  Whole brain radiotherapy   \n",
       "4                                            0.0  Whole brain radiotherapy   \n",
       "\n",
       "   Steroids_before_brain_RT_start  \\\n",
       "0                             0.0   \n",
       "1                             0.0   \n",
       "2                             0.0   \n",
       "3                             0.0   \n",
       "4                             NaN   \n",
       "\n",
       "   Specialized_palliative_care_prior_to_brain_RT_start  RPA  GPA_version_2012  \n",
       "0                                                0.0    1.0               2.0  \n",
       "1                                                0.0    3.0               2.0  \n",
       "2                                                NaN    NaN               NaN  \n",
       "3                                                NaN    NaN               NaN  \n",
       "4                                                NaN    NaN               NaN  "
      ]
     },
     "execution_count": 40,
     "metadata": {},
     "output_type": "execute_result"
    }
   ],
   "source": [
    "df.head()"
   ]
  },
  {
   "cell_type": "code",
   "execution_count": 41,
   "metadata": {},
   "outputs": [
    {
     "data": {
      "text/html": [
       "<div>\n",
       "<style scoped>\n",
       "    .dataframe tbody tr th:only-of-type {\n",
       "        vertical-align: middle;\n",
       "    }\n",
       "\n",
       "    .dataframe tbody tr th {\n",
       "        vertical-align: top;\n",
       "    }\n",
       "\n",
       "    .dataframe thead th {\n",
       "        text-align: right;\n",
       "    }\n",
       "</style>\n",
       "<table border=\"1\" class=\"dataframe\">\n",
       "  <thead>\n",
       "    <tr style=\"text-align: right;\">\n",
       "      <th>GPA_version_2012</th>\n",
       "      <th>1.0</th>\n",
       "      <th>2.0</th>\n",
       "      <th>3.0</th>\n",
       "      <th>4.0</th>\n",
       "    </tr>\n",
       "    <tr>\n",
       "      <th>RT_aborted</th>\n",
       "      <th></th>\n",
       "      <th></th>\n",
       "      <th></th>\n",
       "      <th></th>\n",
       "    </tr>\n",
       "  </thead>\n",
       "  <tbody>\n",
       "    <tr>\n",
       "      <th>0</th>\n",
       "      <td>136</td>\n",
       "      <td>103</td>\n",
       "      <td>14</td>\n",
       "      <td>8</td>\n",
       "    </tr>\n",
       "    <tr>\n",
       "      <th>1</th>\n",
       "      <td>16</td>\n",
       "      <td>8</td>\n",
       "      <td>1</td>\n",
       "      <td>0</td>\n",
       "    </tr>\n",
       "  </tbody>\n",
       "</table>\n",
       "</div>"
      ],
      "text/plain": [
       "GPA_version_2012  1.0  2.0  3.0  4.0\n",
       "RT_aborted                          \n",
       "0                 136  103   14    8\n",
       "1                  16    8    1    0"
      ]
     },
     "execution_count": 41,
     "metadata": {},
     "output_type": "execute_result"
    }
   ],
   "source": [
    "gpa_crosstab = pd.crosstab(df[\"RT_aborted\"], df[\"GPA_version_2012\"], margins=False)\n",
    "gpa_crosstab"
   ]
  },
  {
   "cell_type": "code",
   "execution_count": 42,
   "metadata": {},
   "outputs": [
    {
     "data": {
      "text/plain": [
       "Chi2ContingencyResult(statistic=1.7818250628123589, pvalue=0.6188979699507668, dof=3, expected_freq=array([[138.71328671, 101.2972028 ,  13.68881119,   7.3006993 ],\n",
       "       [ 13.28671329,   9.7027972 ,   1.31118881,   0.6993007 ]]))"
      ]
     },
     "execution_count": 42,
     "metadata": {},
     "output_type": "execute_result"
    }
   ],
   "source": [
    "gpa_result = chi2_contingency(gpa_crosstab)\n",
    "gpa_result"
   ]
  },
  {
   "cell_type": "markdown",
   "metadata": {},
   "source": [
    "## RPA"
   ]
  },
  {
   "cell_type": "code",
   "execution_count": 43,
   "metadata": {},
   "outputs": [
    {
     "data": {
      "text/html": [
       "<div>\n",
       "<style scoped>\n",
       "    .dataframe tbody tr th:only-of-type {\n",
       "        vertical-align: middle;\n",
       "    }\n",
       "\n",
       "    .dataframe tbody tr th {\n",
       "        vertical-align: top;\n",
       "    }\n",
       "\n",
       "    .dataframe thead th {\n",
       "        text-align: right;\n",
       "    }\n",
       "</style>\n",
       "<table border=\"1\" class=\"dataframe\">\n",
       "  <thead>\n",
       "    <tr style=\"text-align: right;\">\n",
       "      <th>RPA</th>\n",
       "      <th>1.0</th>\n",
       "      <th>2.0</th>\n",
       "      <th>3.0</th>\n",
       "    </tr>\n",
       "    <tr>\n",
       "      <th>RT_aborted</th>\n",
       "      <th></th>\n",
       "      <th></th>\n",
       "      <th></th>\n",
       "    </tr>\n",
       "  </thead>\n",
       "  <tbody>\n",
       "    <tr>\n",
       "      <th>0</th>\n",
       "      <td>23</td>\n",
       "      <td>162</td>\n",
       "      <td>144</td>\n",
       "    </tr>\n",
       "    <tr>\n",
       "      <th>1</th>\n",
       "      <td>1</td>\n",
       "      <td>9</td>\n",
       "      <td>21</td>\n",
       "    </tr>\n",
       "  </tbody>\n",
       "</table>\n",
       "</div>"
      ],
      "text/plain": [
       "RPA         1.0  2.0  3.0\n",
       "RT_aborted               \n",
       "0            23  162  144\n",
       "1             1    9   21"
      ]
     },
     "execution_count": 43,
     "metadata": {},
     "output_type": "execute_result"
    }
   ],
   "source": [
    "rpa_crosstab = pd.crosstab(df[\"RT_aborted\"], df[\"RPA\"], margins=False)\n",
    "rpa_crosstab"
   ]
  },
  {
   "cell_type": "code",
   "execution_count": 44,
   "metadata": {},
   "outputs": [
    {
     "data": {
      "text/plain": [
       "Chi2ContingencyResult(statistic=6.590344958296407, pvalue=0.037061652133702175, dof=2, expected_freq=array([[ 21.93333333, 156.275     , 150.79166667],\n",
       "       [  2.06666667,  14.725     ,  14.20833333]]))"
      ]
     },
     "execution_count": 44,
     "metadata": {},
     "output_type": "execute_result"
    }
   ],
   "source": [
    "rpa = chi2_contingency(rpa_crosstab)\n",
    "rpa"
   ]
  }
 ],
 "metadata": {
  "kernelspec": {
   "display_name": "epic_ipss",
   "language": "python",
   "name": "python3"
  },
  "language_info": {
   "codemirror_mode": {
    "name": "ipython",
    "version": 3
   },
   "file_extension": ".py",
   "mimetype": "text/x-python",
   "name": "python",
   "nbconvert_exporter": "python",
   "pygments_lexer": "ipython3",
   "version": "3.11.4"
  },
  "orig_nbformat": 4
 },
 "nbformat": 4,
 "nbformat_minor": 2
}
